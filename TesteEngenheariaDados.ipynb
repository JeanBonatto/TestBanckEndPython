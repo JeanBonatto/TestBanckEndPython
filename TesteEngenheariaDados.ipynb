{
 "cells": [
  {
   "attachments": {},
   "cell_type": "markdown",
   "metadata": {},
   "source": [
    "## Teste Softmus"
   ]
  },
  {
   "attachments": {},
   "cell_type": "markdown",
   "metadata": {},
   "source": [
    "### 1. Engenharia de dados"
   ]
  },
  {
   "attachments": {},
   "cell_type": "markdown",
   "metadata": {},
   "source": [
    "#### 1.1 - Implemente um algoritmo de vetores não ordenados com capacidade limitada utilizando a linguagem python3"
   ]
  },
  {
   "cell_type": "code",
   "execution_count": 5,
   "metadata": {},
   "outputs": [
    {
     "name": "stdout",
     "output_type": "stream",
     "text": [
      "Este é o seu vetor [2]\n",
      "Este é o seu vetor [2, 25]\n",
      "Não há esse número em seu vetor\n",
      "Este é o seu vetor [2, 25]\n",
      "Este é o seu vetor [2, 25, 8]\n",
      "Capacidade máxima do vetor foi atingida.\n"
     ]
    }
   ],
   "source": [
    "class VetorNaoOrdenado:\n",
    "    def __init__(self, capacidadeVetor):\n",
    "        self.capacidadeVetor = capacidadeVetor\n",
    "        self.tamanhoVetor = 0\n",
    "        self.vetor = []\n",
    "\n",
    "    def incluir(self, elementoVetor):\n",
    "        if not isinstance(elementoVetor, int):\n",
    "            print(\"Foi inserido um elemento inválido. Por favor, insira um número inteiro.\")\n",
    "        elif self.tamanhoVetor == self.capacidadeVetor:\n",
    "            print(\"Capacidade máxima do vetor foi atingida.\")\n",
    "            return\n",
    "        else:\n",
    "            self.vetor.append(elementoVetor)\n",
    "            self.tamanhoVetor += 1\n",
    "            print(f\"Este é o seu vetor {self.vetor}\")\n",
    " \n",
    "    def remover(self, elementoVetor):\n",
    "        if self.tamanhoVetor == 0:\n",
    "            print(\"O vetor está vazio. Não é possível remover elementos.\")\n",
    "            return\n",
    "        elif not isinstance(elementoVetor, int):\n",
    "            print(\"Foi inserido um elemento inválido. Por favor, insira um número inteiro.\")\n",
    "            return\n",
    "        elif elementoVetor not in self.vetor:\n",
    "                print(\"Não há esse número em seu vetor\") \n",
    "                print(f\"Este é o seu vetor {self.vetor}\")\n",
    "        else:\n",
    "            self.vetor.remove(elementoVetor)\n",
    "            self.tamanhoVetor -= 1\n",
    "            print(f\"Este é o seu vetor {self.vetor}\")\n",
    "\n",
    "#Exemplo de Uso\n",
    "from VetorNaoOrdenado import VetorNaoOrdenado\n",
    "vetor = VetorNaoOrdenado(3)\n",
    "vetor.incluir(2)\n",
    "type(vetor)\n",
    "vetor.incluir(25)\n",
    "vetor.remover(3)\n",
    "vetor.incluir(8)\n",
    "vetor.incluir(10)\n",
    "vetor.incluir(\"a\")"
   ]
  },
  {
   "attachments": {},
   "cell_type": "markdown",
   "metadata": {},
   "source": [
    "#### 2 - Explique com suas palavras os conceitos FIFO (First-In First-Out) e LIFO (Last-In First-Out)"
   ]
  },
  {
   "attachments": {},
   "cell_type": "markdown",
   "metadata": {},
   "source": [
    "Os conceitos de FIFO (First-In First-Out) e LIFO (Last-In First-Out), são amplamentos utilizados na forma de organização dos dados.\n",
    "Como o nome sugere FIFO se trata de que o primeiro elemento a chegar, ou ser incorporado a uma fila, será o primeiro elemento a ser tratado. A lógica é semelhante a filas que enfrentamos em caixas de supermercado, lojas, entre outros. A primeira pessoa a entrar na fila, será a primeira a ser atendida, os demais são atendidos em sequencia, conforme ordem de chegada.\n",
    "Para o LIFO, a metodologia utilizada é para as pilhas de dados que se agrupam de forma que sejam um colocado sobre o outro, e que o ultimo a ser colocado na pilha é o que fica mais acima da pilha e se torna o primeiro a ser utilizado. Sendo então LIFO para a tradução de o ultimo que entra e o primeiro que sai."
   ]
  },
  {
   "attachments": {},
   "cell_type": "markdown",
   "metadata": {},
   "source": [
    "### 3 - Crie um script python que mostre um array com o nome do país e sua capital. Crie métodos que ordenem a lista pelo nome do país e pelo nome da capital. Adicione pelo menos 8 entradas no array."
   ]
  },
  {
   "cell_type": "code",
   "execution_count": 28,
   "metadata": {},
   "outputs": [],
   "source": [
    "class ArrayPaisCapital:\n",
    "    def __init__(self, pais, capital): #Fazendo a inicialização da classe, pelos seus dois objetos\n",
    "        self.pais = pais\n",
    "        self.capital = capital\n",
    "        self.Array = [[pais, capital]]  # Armazenar os pares país-capital em uma lista\n",
    "\n",
    "    def __repr__(self):\n",
    "        return f\"{self.pais} - {self.capital}\"\n",
    "    \n",
    "\n",
    "# Inclui um novo par país e capital à lista\n",
    "    def incluirPaisAndCapital(self, pais, capital):\n",
    "        self.Array.append([pais, capital])  \n",
    "        print(\"País e Capital incluidos com sucesso. Este é o seu Array com Países e Capitais: \",self.Array)\n",
    "\n",
    "# Ordenar a lista pelo nome do país\n",
    "    def ordenarPais(self):\n",
    "        self.Array.sort(key=lambda x: x[0])  \n",
    "        print(f\"Este é o seu Array com Países e Capitais ordenados pelo País: {self.Array}\")\n",
    "\n",
    "# Ordenar a lista pelo nome da capital\n",
    "    def ordenarCapital(self):\n",
    "        self.Array.sort(key=lambda x: x[1])  \n",
    "        print(f\"Este é o seu Array com Países e Capitais ordenados pela Capital: {self.Array}\")\n"
   ]
  },
  {
   "cell_type": "code",
   "execution_count": null,
   "metadata": {},
   "outputs": [],
   "source": [
    "from ArrayPaisCapital import ArrayPaisCapital\n",
    "# Exemplo de Uso, com a inclusão de mais de 8 Objetos (País e sua respectiva Capital)\n",
    "array = ArrayPaisCapital(\"Brasil\", \"Brasília\")          # 1º País e Capital\n",
    "array.incluirPaisAndCapital(\"Argentina\",\"Buenos Aires\") # 2º País e Capital\n",
    "array.incluirPaisAndCapital(\"Paraguai\",\"Assunção\")      # 3º País e Capital\n",
    "array.incluirPaisAndCapital(\"Uruguay\",\"Montevidéu\")     # 4º País e Capital\n",
    "array.incluirPaisAndCapital(\"Equador\",\"Quito\")          # 5º País e Capital\n",
    "array.incluirPaisAndCapital(\"Chile\",\"Santiago\")         # 6º País e Capital\n",
    "array.incluirPaisAndCapital(\"Peru\",\"Lima\")              # 7º País e Capital\n",
    "array.incluirPaisAndCapital(\"Colômbia\",\"Bogotá\")        # 8º País e Capital\n",
    "array.incluirPaisAndCapital(\"Venezuela\",\"Caracas\")      # 9º País e Capital\n",
    "array.ordenarPais()\n",
    "array.ordenarCapital()"
   ]
  },
  {
   "attachments": {},
   "cell_type": "markdown",
   "metadata": {},
   "source": [
    "## Logica de programação"
   ]
  },
  {
   "attachments": {},
   "cell_type": "markdown",
   "metadata": {},
   "source": [
    "Um atleta que mantém meticulosos registros de suas caminhadas. Durante sua\n",
    "última caminhada de exatamente P passos, para cada passo foi anotado se ele era\n",
    "subida S ou descida D. As caminhadas sempre começam e terminam no nível do\n",
    "mar, e cada passo para cima ou para baixo representa 1 unidade na alteração da\n",
    "altitude. Considere os seguintes termos:\n",
    "\n",
    "a. Uma montanha é uma sequência de passos consecutivos acima do nível do\n",
    "mar, começando com um passo acima do nível do mar e terminando com um\n",
    "passo até o nível do mar.\n",
    "\n",
    "b. Um vale é uma sequência de passos consecutivos abaixo do nível do mar,\n",
    "começando com um passo abaixo do nível do mar e terminando com um\n",
    "passo até o nível do mar.\n",
    "\n",
    "Dada uma sequência de passos de subida ou descida durante uma caminhada,\n",
    "imprima o número de vales percorridos durante a caminhada.\n",
    "\n",
    "Exemplo:\n",
    "\n",
    "P = 8 passos = [DDSSSSDD]\n",
    "\n",
    "O atleta primeiro entrou em um vale 2 unidades abaixo, então ele subiu uma\n",
    "montanha 2 unidades acima, chegando no nível do mar no final da caminhada."
   ]
  },
  {
   "attachments": {},
   "cell_type": "markdown",
   "metadata": {},
   "source": [
    "Descrição da Função:\n",
    "Complete a função contandoVales com os seguintes parâmetros:\n",
    "\n",
    "- int passos: o número de passos na caminhada (passos=9)\n",
    "\n",
    "- string caminho: a descrição da caminhada (caminho=“SSDDDSSSS”)\n",
    "Constraints:\n",
    "\n",
    "- 2 <= passos <= 10\n",
    "\n",
    "- caminho[i] ∈ {SD}\n",
    "\n",
    "Exemplo de Entrada:\n",
    "passos=8\n",
    "\n",
    "caminho=SDDDSDSS\n",
    "\n",
    "Exemplo de Saída:\n",
    "1\n",
    "\n",
    "\n",
    "Explicação:\n",
    "Se representarmos _ como nível do mar, um passo acima como /, um passo abaixo\n",
    "como \\, a caminhada do exemplo de entrada acima poderia ser desenhada da seguinte\n",
    "forma:\n",
    "_/\\ _\n",
    "\\ /\n",
    "\\/\\/\n",
    "\n",
    "Exercício:\n",
    "Crie uma função que receba como parâmetro os passos e o caminho e retorne a\n",
    "quantidade de vales percorridos.\n"
   ]
  },
  {
   "cell_type": "code",
   "execution_count": 33,
   "metadata": {},
   "outputs": [],
   "source": [
    "class ContadorVales:\n",
    "    def __init__(self, passos, caminho):\n",
    "        self.passos = passos\n",
    "        self.caminho = caminho\n",
    "        self.vale = 0\n",
    "\n",
    "    def contadorVales(self):\n",
    "        if self.passos != len(self.caminho):\n",
    "            print(\"Precisa que o número de passos e a quantidade de 'D' e 'U' do caminho, seja igual\")\n",
    "        else:\n",
    "        #Verificador se é subida ou descida\n",
    "            contador = 0 #Inicialização do contador\n",
    "            for i in self.caminho:\n",
    "        # Se o caminho for igual a U, ele sobre\n",
    "                if i == \"U\":\n",
    "                    contador += 1\n",
    "            #Se ao estiver subido ele chegar a 0, então ele percoreu um vale\n",
    "                    if contador == 0:\n",
    "                        self.vale +=1            \n",
    "                # Se o caminho for igual a D, ele desce\n",
    "                else:\n",
    "                    i == \"D\"\n",
    "                    contador -= 1          \n",
    "        print(\" A quantida de vales é :\", self.vale)\n"
   ]
  },
  {
   "cell_type": "code",
   "execution_count": 34,
   "metadata": {},
   "outputs": [
    {
     "name": "stdout",
     "output_type": "stream",
     "text": [
      " A quantida de vales é : 2\n",
      " A quantida de vales é : 2\n",
      " A quantida de vales é : 2\n",
      "Precisa que o número de passos e a quantidade de 'D' e 'U' do caminho, seja igual\n",
      " A quantida de vales é : 0\n"
     ]
    }
   ],
   "source": [
    "from ContadorVales import ContadorVales\n",
    "#Exemplos de Uso\n",
    "passos=12\n",
    "caminho= \"DDUUDDUDUUUD\"\n",
    "#retorno=2\n",
    "qtdeVales = ContadorVales(passos, caminho)\n",
    "qtdeVales.contadorVales()\n",
    "\n",
    "passos=10\n",
    "caminho= \"DUDDDUUDUU\"\n",
    "qtdeVales = ContadorVales(passos, caminho)\n",
    "qtdeVales.contadorVales()\n",
    "#retorno=2\n",
    "\n",
    "passos=100\n",
    "caminho=\"DUDUUUUUUUUDUDDUUDUUDDDUUDDDDDUUDUUUUDDDUUUUUUUDDUDUDUUUDDDDUUDDDUDDDDUUDDUDDUUUDUUUDUUDUDUDDDDDDDDD\"\n",
    "qtdeVales = ContadorVales(passos, caminho)\n",
    "qtdeVales.contadorVales()\n",
    "#retorno=2\n",
    "\n",
    "#Quantidade de Passos e caminhos está divergente\n",
    "passos=9 #Colocado 9 para verificação\n",
    "caminho= \"DUDDDUUDUU\"  #são 10 passos no caminho\n",
    "qtdeVales = ContadorVales(passos, caminho)\n",
    "qtdeVales.contadorVales()"
   ]
  },
  {
   "attachments": {},
   "cell_type": "markdown",
   "metadata": {},
   "source": [
    "## Django / MQTT / Docker / PostgreSQL"
   ]
  },
  {
   "attachments": {},
   "cell_type": "markdown",
   "metadata": {},
   "source": [
    "#### 1 - Explique com suas palavras os conceitos de Publisher, Exchange, Topic, Queue e consumer no MQTT.\n"
   ]
  }
 ],
 "metadata": {
  "kernelspec": {
   "display_name": "Python 3",
   "language": "python",
   "name": "python3"
  },
  "language_info": {
   "codemirror_mode": {
    "name": "ipython",
    "version": 3
   },
   "file_extension": ".py",
   "mimetype": "text/x-python",
   "name": "python",
   "nbconvert_exporter": "python",
   "pygments_lexer": "ipython3",
   "version": "3.11.2"
  },
  "orig_nbformat": 4
 },
 "nbformat": 4,
 "nbformat_minor": 2
}
