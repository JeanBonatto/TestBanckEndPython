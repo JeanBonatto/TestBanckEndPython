{
 "cells": [
  {
   "attachments": {},
   "cell_type": "markdown",
   "metadata": {},
   "source": [
    "## Teste Softmus"
   ]
  },
  {
   "attachments": {},
   "cell_type": "markdown",
   "metadata": {},
   "source": [
    "### 1. Engenharia de dados"
   ]
  },
  {
   "attachments": {},
   "cell_type": "markdown",
   "metadata": {},
   "source": [
    "#### 1.1 - Implemente um algoritmo de vetores não ordenados com capacidade limitada utilizando a linguagem python3"
   ]
  },
  {
   "cell_type": "code",
   "execution_count": 5,
   "metadata": {},
   "outputs": [
    {
     "name": "stdout",
     "output_type": "stream",
     "text": [
      "Este é o seu vetor [2]\n",
      "Este é o seu vetor [2, 25]\n",
      "Não há esse número em seu vetor\n",
      "Este é o seu vetor [2, 25]\n",
      "Este é o seu vetor [2, 25, 8]\n",
      "Capacidade máxima do vetor foi atingida.\n",
      "Este é o seu vetor [2]\n",
      "Este é o seu vetor [2, 25]\n",
      "Não há esse número em seu vetor\n",
      "Este é o seu vetor [2, 25]\n",
      "Este é o seu vetor [2, 25, 8]\n",
      "Capacidade máxima do vetor foi atingida.\n",
      "Foi inserido um elemento inválido. Por favor, insira um número inteiro.\n"
     ]
    }
   ],
   "source": [
    "class VetorNaoOrdenado:\n",
    "    def __init__(self, capacidadeVetor):\n",
    "        self.capacidadeVetor = capacidadeVetor\n",
    "        self.tamanhoVetor = 0\n",
    "        self.vetor = []\n",
    "\n",
    "    def incluir(self, elementoVetor):\n",
    "        ''''Função para incluir um elemento ao vetor'''\n",
    "        #Verificador de se o número inserido é um inteiro\n",
    "        if not isinstance(elementoVetor, int):\n",
    "            print(\"Foi inserido um elemento inválido. Por favor, insira um número inteiro.\")\n",
    "        #Verificador da capacidade do vetor informado pelo usuario com o comprimento do vetor\n",
    "        elif self.tamanhoVetor == self.capacidadeVetor:\n",
    "            print(\"Capacidade máxima do vetor foi atingida.\")\n",
    "            return\n",
    "        #Com as validaçoes, se ambas forem falsas, o elemento informado é adicionado ao vetor\n",
    "        else:\n",
    "            self.vetor.append(elementoVetor)\n",
    "            self.tamanhoVetor += 1\n",
    "            print(f\"Este é o seu vetor {self.vetor}\")\n",
    " \n",
    "    def remover(self, elementoVetor):\n",
    "        ''''Função para remoção do elemento presente no vetor. \n",
    "        Insira um valor inteiro presente no vetor.'''\n",
    "\n",
    "        #Verificador se o Vetor possui algum elemento\n",
    "        if self.tamanhoVetor == 0:\n",
    "            print(\"O vetor está vazio. Não é possível remover elementos.\")\n",
    "            return\n",
    "        #Se for colocado um número que não seja inteiro retornara um erro.\n",
    "        elif not isinstance(elementoVetor, int):\n",
    "            print(\"Foi inserido um elemento inválido. Por favor, insira um número inteiro.\")\n",
    "            return\n",
    "        #Verificado se o elemento informado pelo usuário está presente no vetor\n",
    "        elif elementoVetor not in self.vetor:\n",
    "                print(\"Não há esse número em seu vetor\") \n",
    "                print(f\"Este é o seu vetor {self.vetor}\")\n",
    "        #Após as validaçoes, o sistema remove o elemento do vetor e retorna com a \n",
    "        else:\n",
    "            self.vetor.remove(elementoVetor)\n",
    "            self.tamanhoVetor -= 1\n",
    "            print(f\"Este é o seu vetor {self.vetor}\")\n",
    "\n",
    "#Exemplo de Uso\n",
    "from VetorNaoOrdenado import VetorNaoOrdenado\n",
    "vetor = VetorNaoOrdenado(3)\n",
    "vetor.incluir(2)\n",
    "vetor.incluir(25)\n",
    "vetor.remover(3)\n",
    "vetor.incluir(8)\n",
    "vetor.incluir(10)\n",
    "vetor.incluir(\"a\")"
   ]
  },
  {
   "attachments": {},
   "cell_type": "markdown",
   "metadata": {},
   "source": [
    "#### 2 - Explique com suas palavras os conceitos FIFO (First-In First-Out) e LIFO (Last-In First-Out)"
   ]
  },
  {
   "attachments": {},
   "cell_type": "markdown",
   "metadata": {},
   "source": [
    "Os conceitos de FIFO (First-In First-Out) e LIFO (Last-In First-Out), são amplamentos utilizados na forma de organização dos dados.\n",
    "Como o nome sugere FIFO se trata de que o primeiro elemento a chegar, ou ser incorporado a uma fila, será o primeiro elemento a ser tratado. A lógica é semelhante a filas que enfrentamos em caixas de supermercado, lojas, entre outros. A primeira pessoa a entrar na fila, será a primeira a ser atendida, os demais são atendidos em sequencia, conforme ordem de chegada.\n",
    "Para o LIFO, a metodologia utilizada é para as pilhas de dados que se agrupam de forma que sejam um colocado sobre o outro, e que o ultimo a ser colocado na pilha é o que fica mais acima da pilha e se torna o primeiro a ser utilizado. Sendo então LIFO para a tradução de o ultimo que entra e o primeiro que sai."
   ]
  },
  {
   "attachments": {},
   "cell_type": "markdown",
   "metadata": {},
   "source": [
    "### 3 - Crie um script python que mostre um array com o nome do país e sua capital. Crie métodos que ordenem a lista pelo nome do país e pelo nome da capital. Adicione pelo menos 8 entradas no array."
   ]
  },
  {
   "cell_type": "code",
   "execution_count": 3,
   "metadata": {},
   "outputs": [],
   "source": [
    "class ArrayPaisCapital:\n",
    "    def __init__(self, pais, capital): #Fazendo a inicialização da classe, pelos seus dois objetos\n",
    "        self.pais = pais\n",
    "        self.capital = capital\n",
    "        self.Array = [[pais, capital]]  # Armazenar os pares país-capital em uma lista\n",
    "\n",
    "    def __repr__(self):\n",
    "        return f\"{self.pais} - {self.capital}\"\n",
    "    \n",
    "\n",
    "# Inclui um novo par país e capital à lista\n",
    "    def incluirPaisAndCapital(self, pais, capital):\n",
    "        self.Array.append([pais, capital])  \n",
    "        print(\"País e Capital incluidos com sucesso. Este é o seu Array com Países e Capitais: \",self.Array)\n",
    "\n",
    "# Ordenar a lista pelo nome do país\n",
    "    def ordenarPais(self):\n",
    "        self.Array.sort(key=lambda x: x[0])  \n",
    "        print(f\"Este é o seu Array com Países e Capitais ordenados pelo País: {self.Array}\")\n",
    "\n",
    "# Ordenar a lista pelo nome da capital\n",
    "    def ordenarCapital(self):\n",
    "        self.Array.sort(key=lambda x: x[1])  \n",
    "        print(f\"Este é o seu Array com Países e Capitais ordenados pela Capital: {self.Array}\")\n"
   ]
  },
  {
   "cell_type": "code",
   "execution_count": 4,
   "metadata": {},
   "outputs": [
    {
     "name": "stdout",
     "output_type": "stream",
     "text": [
      "País e Capital incluidos com sucesso. Este é o seu Array com Países e Capitais:  [['Brasil', 'Brasília'], ['Argentina', 'Buenos Aires']]\n",
      "País e Capital incluidos com sucesso. Este é o seu Array com Países e Capitais:  [['Brasil', 'Brasília'], ['Argentina', 'Buenos Aires'], ['Paraguai', 'Assunção']]\n",
      "País e Capital incluidos com sucesso. Este é o seu Array com Países e Capitais:  [['Brasil', 'Brasília'], ['Argentina', 'Buenos Aires'], ['Paraguai', 'Assunção'], ['Uruguay', 'Montevidéu']]\n",
      "País e Capital incluidos com sucesso. Este é o seu Array com Países e Capitais:  [['Brasil', 'Brasília'], ['Argentina', 'Buenos Aires'], ['Paraguai', 'Assunção'], ['Uruguay', 'Montevidéu'], ['Equador', 'Quito']]\n",
      "País e Capital incluidos com sucesso. Este é o seu Array com Países e Capitais:  [['Brasil', 'Brasília'], ['Argentina', 'Buenos Aires'], ['Paraguai', 'Assunção'], ['Uruguay', 'Montevidéu'], ['Equador', 'Quito'], ['Chile', 'Santiago']]\n",
      "País e Capital incluidos com sucesso. Este é o seu Array com Países e Capitais:  [['Brasil', 'Brasília'], ['Argentina', 'Buenos Aires'], ['Paraguai', 'Assunção'], ['Uruguay', 'Montevidéu'], ['Equador', 'Quito'], ['Chile', 'Santiago'], ['Peru', 'Lima']]\n",
      "País e Capital incluidos com sucesso. Este é o seu Array com Países e Capitais:  [['Brasil', 'Brasília'], ['Argentina', 'Buenos Aires'], ['Paraguai', 'Assunção'], ['Uruguay', 'Montevidéu'], ['Equador', 'Quito'], ['Chile', 'Santiago'], ['Peru', 'Lima'], ['Colômbia', 'Bogotá']]\n",
      "País e Capital incluidos com sucesso. Este é o seu Array com Países e Capitais:  [['Brasil', 'Brasília'], ['Argentina', 'Buenos Aires'], ['Paraguai', 'Assunção'], ['Uruguay', 'Montevidéu'], ['Equador', 'Quito'], ['Chile', 'Santiago'], ['Peru', 'Lima'], ['Colômbia', 'Bogotá'], ['Venezuela', 'Caracas']]\n",
      "Este é o seu Array com Países e Capitais ordenados pelo País: [['Argentina', 'Buenos Aires'], ['Brasil', 'Brasília'], ['Chile', 'Santiago'], ['Colômbia', 'Bogotá'], ['Equador', 'Quito'], ['Paraguai', 'Assunção'], ['Peru', 'Lima'], ['Uruguay', 'Montevidéu'], ['Venezuela', 'Caracas']]\n",
      "Este é o seu Array com Países e Capitais ordenados pela Capital: [['Paraguai', 'Assunção'], ['Colômbia', 'Bogotá'], ['Brasil', 'Brasília'], ['Argentina', 'Buenos Aires'], ['Venezuela', 'Caracas'], ['Peru', 'Lima'], ['Uruguay', 'Montevidéu'], ['Equador', 'Quito'], ['Chile', 'Santiago']]\n",
      "País e Capital incluidos com sucesso. Este é o seu Array com Países e Capitais:  [['Brasil', 'Brasília'], ['Argentina', 'Buenos Aires']]\n",
      "País e Capital incluidos com sucesso. Este é o seu Array com Países e Capitais:  [['Brasil', 'Brasília'], ['Argentina', 'Buenos Aires'], ['Paraguai', 'Assunção']]\n",
      "País e Capital incluidos com sucesso. Este é o seu Array com Países e Capitais:  [['Brasil', 'Brasília'], ['Argentina', 'Buenos Aires'], ['Paraguai', 'Assunção'], ['Uruguay', 'Montevidéu']]\n",
      "País e Capital incluidos com sucesso. Este é o seu Array com Países e Capitais:  [['Brasil', 'Brasília'], ['Argentina', 'Buenos Aires'], ['Paraguai', 'Assunção'], ['Uruguay', 'Montevidéu'], ['Equador', 'Quito']]\n",
      "País e Capital incluidos com sucesso. Este é o seu Array com Países e Capitais:  [['Brasil', 'Brasília'], ['Argentina', 'Buenos Aires'], ['Paraguai', 'Assunção'], ['Uruguay', 'Montevidéu'], ['Equador', 'Quito'], ['Chile', 'Santiago']]\n",
      "País e Capital incluidos com sucesso. Este é o seu Array com Países e Capitais:  [['Brasil', 'Brasília'], ['Argentina', 'Buenos Aires'], ['Paraguai', 'Assunção'], ['Uruguay', 'Montevidéu'], ['Equador', 'Quito'], ['Chile', 'Santiago'], ['Peru', 'Lima']]\n",
      "País e Capital incluidos com sucesso. Este é o seu Array com Países e Capitais:  [['Brasil', 'Brasília'], ['Argentina', 'Buenos Aires'], ['Paraguai', 'Assunção'], ['Uruguay', 'Montevidéu'], ['Equador', 'Quito'], ['Chile', 'Santiago'], ['Peru', 'Lima'], ['Colômbia', 'Bogotá']]\n",
      "País e Capital incluidos com sucesso. Este é o seu Array com Países e Capitais:  [['Brasil', 'Brasília'], ['Argentina', 'Buenos Aires'], ['Paraguai', 'Assunção'], ['Uruguay', 'Montevidéu'], ['Equador', 'Quito'], ['Chile', 'Santiago'], ['Peru', 'Lima'], ['Colômbia', 'Bogotá'], ['Venezuela', 'Caracas']]\n",
      "Este é o seu Array com Países e Capitais ordenados pelo País: [['Argentina', 'Buenos Aires'], ['Brasil', 'Brasília'], ['Chile', 'Santiago'], ['Colômbia', 'Bogotá'], ['Equador', 'Quito'], ['Paraguai', 'Assunção'], ['Peru', 'Lima'], ['Uruguay', 'Montevidéu'], ['Venezuela', 'Caracas']]\n",
      "Este é o seu Array com Países e Capitais ordenados pela Capital: [['Paraguai', 'Assunção'], ['Colômbia', 'Bogotá'], ['Brasil', 'Brasília'], ['Argentina', 'Buenos Aires'], ['Venezuela', 'Caracas'], ['Peru', 'Lima'], ['Uruguay', 'Montevidéu'], ['Equador', 'Quito'], ['Chile', 'Santiago']]\n"
     ]
    }
   ],
   "source": [
    "from ArrayPaisCapital import ArrayPaisCapital\n",
    "# Exemplo de Uso, com a inclusão de mais de 8 Objetos (País e sua respectiva Capital)\n",
    "array = ArrayPaisCapital(\"Brasil\", \"Brasília\")          # 1º País e Capital\n",
    "array.incluirPaisAndCapital(\"Argentina\",\"Buenos Aires\") # 2º País e Capital\n",
    "array.incluirPaisAndCapital(\"Paraguai\",\"Assunção\")      # 3º País e Capital\n",
    "array.incluirPaisAndCapital(\"Uruguay\",\"Montevidéu\")     # 4º País e Capital\n",
    "array.incluirPaisAndCapital(\"Equador\",\"Quito\")          # 5º País e Capital\n",
    "array.incluirPaisAndCapital(\"Chile\",\"Santiago\")         # 6º País e Capital\n",
    "array.incluirPaisAndCapital(\"Peru\",\"Lima\")              # 7º País e Capital\n",
    "array.incluirPaisAndCapital(\"Colômbia\",\"Bogotá\")        # 8º País e Capital\n",
    "array.incluirPaisAndCapital(\"Venezuela\",\"Caracas\")      # 9º País e Capital\n",
    "array.ordenarPais()\n",
    "array.ordenarCapital()"
   ]
  },
  {
   "attachments": {},
   "cell_type": "markdown",
   "metadata": {},
   "source": [
    "## Logica de programação"
   ]
  },
  {
   "attachments": {},
   "cell_type": "markdown",
   "metadata": {},
   "source": [
    "Um atleta que mantém meticulosos registros de suas caminhadas. Durante sua\n",
    "última caminhada de exatamente P passos, para cada passo foi anotado se ele era\n",
    "subida S ou descida D. As caminhadas sempre começam e terminam no nível do\n",
    "mar, e cada passo para cima ou para baixo representa 1 unidade na alteração da\n",
    "altitude. Considere os seguintes termos:\n",
    "\n",
    "a. Uma montanha é uma sequência de passos consecutivos acima do nível do\n",
    "mar, começando com um passo acima do nível do mar e terminando com um\n",
    "passo até o nível do mar.\n",
    "\n",
    "b. Um vale é uma sequência de passos consecutivos abaixo do nível do mar,\n",
    "começando com um passo abaixo do nível do mar e terminando com um\n",
    "passo até o nível do mar.\n",
    "\n",
    "Dada uma sequência de passos de subida ou descida durante uma caminhada,\n",
    "imprima o número de vales percorridos durante a caminhada.\n",
    "\n",
    "Exemplo:\n",
    "\n",
    "P = 8 passos = [DDSSSSDD]\n",
    "\n",
    "O atleta primeiro entrou em um vale 2 unidades abaixo, então ele subiu uma\n",
    "montanha 2 unidades acima, chegando no nível do mar no final da caminhada."
   ]
  },
  {
   "attachments": {},
   "cell_type": "markdown",
   "metadata": {},
   "source": [
    "Descrição da Função:\n",
    "Complete a função contandoVales com os seguintes parâmetros:\n",
    "\n",
    "- int passos: o número de passos na caminhada (passos=9)\n",
    "\n",
    "- string caminho: a descrição da caminhada (caminho=“SSDDDSSSS”)\n",
    "Constraints:\n",
    "\n",
    "- 2 <= passos <= 10\n",
    "\n",
    "- caminho[i] ∈ {SD}\n",
    "\n",
    "Exemplo de Entrada:\n",
    "passos=8\n",
    "\n",
    "caminho=SDDDSDSS\n",
    "\n",
    "Exemplo de Saída:\n",
    "1\n",
    "\n",
    "\n",
    "Explicação:\n",
    "Se representarmos _ como nível do mar, um passo acima como /, um passo abaixo\n",
    "como \\, a caminhada do exemplo de entrada acima poderia ser desenhada da seguinte\n",
    "forma:\n",
    "_/\\ _\n",
    "\\ /\n",
    "\\/\\/\n",
    "\n",
    "Exercício:\n",
    "Crie uma função que receba como parâmetro os passos e o caminho e retorne a\n",
    "quantidade de vales percorridos.\n"
   ]
  },
  {
   "cell_type": "code",
   "execution_count": 33,
   "metadata": {},
   "outputs": [],
   "source": [
    "class ContadorVales:\n",
    "    def __init__(self, passos, caminho):\n",
    "        self.passos = passos\n",
    "        self.caminho = caminho\n",
    "        self.vale = 0\n",
    "\n",
    "    def contadorVales(self):\n",
    "        if self.passos != len(self.caminho):\n",
    "            print(\"Precisa que o número de passos e a quantidade de 'D' e 'U' do caminho, seja igual\")\n",
    "        else:\n",
    "        #Verificador se é subida ou descida\n",
    "            contador = 0 #Inicialização do contador\n",
    "            for i in self.caminho:\n",
    "        # Se o caminho for igual a U, ele sobre\n",
    "                if i == \"U\":\n",
    "                    contador += 1\n",
    "            #Se ao estiver subido ele chegar a 0, então ele percoreu um vale\n",
    "                    if contador == 0:\n",
    "                        self.vale +=1            \n",
    "                # Se o caminho for igual a D, ele desce\n",
    "                else:\n",
    "                    i == \"D\"\n",
    "                    contador -= 1          \n",
    "        print(\" A quantida de vales é :\", self.vale)\n"
   ]
  },
  {
   "cell_type": "code",
   "execution_count": 34,
   "metadata": {},
   "outputs": [
    {
     "name": "stdout",
     "output_type": "stream",
     "text": [
      " A quantida de vales é : 2\n",
      " A quantida de vales é : 2\n",
      " A quantida de vales é : 2\n",
      "Precisa que o número de passos e a quantidade de 'D' e 'U' do caminho, seja igual\n",
      " A quantida de vales é : 0\n"
     ]
    }
   ],
   "source": [
    "from ContadorVales import ContadorVales\n",
    "#Exemplos de Uso\n",
    "passos=12\n",
    "caminho= \"DDUUDDUDUUUD\"\n",
    "#retorno=2\n",
    "qtdeVales = ContadorVales(passos, caminho)\n",
    "qtdeVales.contadorVales()\n",
    "\n",
    "passos=10\n",
    "caminho= \"DUDDDUUDUU\"\n",
    "qtdeVales = ContadorVales(passos, caminho)\n",
    "qtdeVales.contadorVales()\n",
    "#retorno=2\n",
    "\n",
    "passos=100\n",
    "caminho=\"DUDUUUUUUUUDUDDUUDUUDDDUUDDDDDUUDUUUUDDDUUUUUUUDDUDUDUUUDDDDUUDDDUDDDDUUDDUDDUUUDUUUDUUDUDUDDDDDDDDD\"\n",
    "qtdeVales = ContadorVales(passos, caminho)\n",
    "qtdeVales.contadorVales()\n",
    "#retorno=2\n",
    "\n",
    "#Quantidade de Passos e caminhos está divergente\n",
    "passos=9 #Colocado 9 para verificação\n",
    "caminho= \"DUDDDUUDUU\"  #são 10 passos no caminho\n",
    "qtdeVales = ContadorVales(passos, caminho)\n",
    "qtdeVales.contadorVales()"
   ]
  },
  {
   "attachments": {},
   "cell_type": "markdown",
   "metadata": {},
   "source": [
    "## 3. Django / MQTT / Docker / PostgreSQL"
   ]
  },
  {
   "attachments": {},
   "cell_type": "markdown",
   "metadata": {},
   "source": [
    "#### 3.1 - Explique com suas palavras os conceitos de Publisher, Exchange, Topic, Queue e consumer no MQTT.\n"
   ]
  },
  {
   "attachments": {},
   "cell_type": "markdown",
   "metadata": {},
   "source": [
    "Publisher (da tradução publicador) é um sistema que envia ou publica mensagens para um broker MQTT, de acordo com regras estipuladas e programadas.\n",
    "\n",
    "Exchange é o receptor de mensagens do broker, elas são recebidas de aplicação dos clientes.\n",
    "\n",
    "Topic é o tópico da mensagem enviada do publisher para o Exchange, é como que fosse o assunto do e-mail, uma forma de categorizar através de tópico o conteúdo da mensagem enviada, facilitando o monitoramento e a redistribuição.\n",
    "\n",
    "Queue é a para onde as mensagens são enviadas, após o recebimento pelo Exchange e processamento, através das regras (bindings) as mensagens ficam em uma fila para serem consumidas pelo consomer.\n",
    "\n",
    "O consumer no MQTT é receptor final da mensagem enviada pelo publisher, após todo o tratamento de regras, ele recebe somente as mensagens que são devidas a seu sistema. De forma que há utiliza para execução da instrução presente na mensagem.\n",
    "\n"
   ]
  },
  {
   "attachments": {},
   "cell_type": "markdown",
   "metadata": {},
   "source": [
    "#### 3.2 - Crie um docker-compose com o banco de dados PostgreSQL e um broker MQTT\n"
   ]
  },
  {
   "attachments": {},
   "cell_type": "markdown",
   "metadata": {},
   "source": [
    "Foi realizado a criação do Docker compose com a integração do Postgre, através do arquivo docker-compose.yml"
   ]
  },
  {
   "attachments": {},
   "cell_type": "markdown",
   "metadata": {},
   "source": [
    "#### 3.3 - Crie uma API utilizando o Django Rest Framework com a seguinte estrutura"
   ]
  },
  {
   "attachments": {},
   "cell_type": "markdown",
   "metadata": {},
   "source": [
    "##### Documentação da API"
   ]
  },
  {
   "attachments": {},
   "cell_type": "markdown",
   "metadata": {},
   "source": [
    "Para a documentação da API.\n",
    "\n",
    "Foi feito a API dentro da Pasta DjangoPython.\n",
    "\n",
    "É necessario que tenha instalado na maquina local ou na Maquinavirtual o Python e o Django. Bem como devidamente configurado o Postgresql (contendo um banco de dados, dados do user, senha e porta)\n",
    "\n",
    "Tais pode ser instalados através do CMD, pelo comando:\n",
    "* pip install python\n",
    "* pip install django\n",
    "\n",
    "Após necessario instalar o Django Rest Framework:\n",
    "* pip install django djangorestframework\n",
    "\n",
    "Instalar o pacote para integrar entre o Django e o Postgre:\n",
    "* pip install psycopg2\n",
    "\n",
    "Instalar o pacote Markdown, para documentação da API\n",
    "* pip install markdown\n",
    "\n",
    "Com as instalações devidamente concluídas, necessario iniciar um projeto Django, através do comando:\n",
    "* python -m django startproject api_project\n",
    "\n",
    "Após realizado isso, devemos entrar no diretorio onde criaremos o aplicativo Django, pode ser cirado pelo comando:\n",
    "* cd api_project\n",
    "\n",
    "Devemos então criar o novo aplicativo, que será chamado de devices:\n",
    "* python manage.py startapp devices\n",
    "\n",
    "Após iniciado, devemos ir na pasta \"api_project/settings.py\", para incluirmos nas configurações os dois aplicativos que acabamos de criar, o \"rest_framework\" e o \"devices\".\n",
    "Na pasta settigns.py, vai ter uma lista chamada de 'INSTALLED_APPS', basta acrescentarmos os dois aplicativos acima a lista.\n",
    "\n",
    "Ainda em settings.py, precisamos colocar os dados no arquivo settings para que a aplicação tenha o usuario, senha e porta para acessar o nosso PostgreSQL. Alterando as informaçoes abaixo,\n",
    "dentro de:\n",
    "DATABASE:\n",
    "*        'NAME': 'SoftmusServer'\n",
    "*        'USER': 'postgre',\n",
    "*        'PASSWORD': 'Senha de Acesso ao Postgre',\n",
    "*        'HOST': 'localhost',\n",
    "*        'PORT': '5432',\n",
    "\n",
    "Após é feito a criação do Modelo no arquivo models.py, contendo as instruções que queremos sejam requisitadas.\n",
    "\n",
    "Executamos os comandos abaixo para executarmos os a criação de tabelas. \n",
    "\n",
    "* python manage.py makemigrations\n",
    "* python manage.py migrate\n",
    "\n",
    "Precisamos definir em \"devices/serializers.py\", os Serializadores da nossa aplicação, para que o sistema transforme os dados em formato que o sistema pode transmiti-lo e armazena-lo.\n",
    "\n",
    "Precisamos definir o \"devices/views.py\" para podermos fazer a criação, listagem e exclusão.\n",
    "\n",
    "Configuramos o \"api_project/urls.py\", para que gere automaticamene as rotas, com base nas views feitas.\n",
    "\n",
    "Criamos o superusuario pelo comando\n",
    "* python manage.py createsuperuser\n",
    "* Será solicitado user, email e senha\n",
    "\n",
    "Executamos novamente, abaixo para criar as tabelas para o Admin:\n",
    "\n",
    "* python manage.py makemigrations\n",
    "* python manage.py migrate\n",
    "\n",
    "Com tudo isso feito, podemos executar a API, pelo comando:\n",
    "* python manage.py runserver\n",
    "\n",
    "Com o código o servidor, começerá a rodar."
   ]
  },
  {
   "attachments": {},
   "cell_type": "markdown",
   "metadata": {},
   "source": [
    "#### 3.4 Crie um publisher mqtt que envie 100 dados de entrada aleatórios para um tópico no MQTT Broker no docker. Criar um consumer mqtt para receber essas 100 entradas e enviá-las para API."
   ]
  },
  {
   "cell_type": "code",
   "execution_count": 2,
   "metadata": {},
   "outputs": [
    {
     "ename": "ConnectionRefusedError",
     "evalue": "[WinError 10061] Nenhuma conexão pôde ser feita porque a máquina de destino as recusou ativamente",
     "output_type": "error",
     "traceback": [
      "\u001b[1;31m---------------------------------------------------------------------------\u001b[0m",
      "\u001b[1;31mConnectionRefusedError\u001b[0m                    Traceback (most recent call last)",
      "Cell \u001b[1;32mIn[2], line 36\u001b[0m\n\u001b[0;32m     33\u001b[0m client\u001b[39m.\u001b[39mon_publish \u001b[39m=\u001b[39m on_publish\n\u001b[0;32m     35\u001b[0m \u001b[39m# Conexão com o broker MQTT\u001b[39;00m\n\u001b[1;32m---> 36\u001b[0m client\u001b[39m.\u001b[39;49mconnect(broker_address, broker_port)\n\u001b[0;32m     38\u001b[0m \u001b[39m# Loop principal\u001b[39;00m\n\u001b[0;32m     39\u001b[0m client\u001b[39m.\u001b[39mloop_start()\n",
      "File \u001b[1;32m~\\AppData\\Roaming\\Python\\Python311\\site-packages\\paho\\mqtt\\client.py:914\u001b[0m, in \u001b[0;36mClient.connect\u001b[1;34m(self, host, port, keepalive, bind_address, bind_port, clean_start, properties)\u001b[0m\n\u001b[0;32m    910\u001b[0m         \u001b[39mraise\u001b[39;00m \u001b[39mValueError\u001b[39;00m(\u001b[39m\"\u001b[39m\u001b[39mProperties only apply to MQTT V5\u001b[39m\u001b[39m\"\u001b[39m)\n\u001b[0;32m    912\u001b[0m \u001b[39mself\u001b[39m\u001b[39m.\u001b[39mconnect_async(host, port, keepalive,\n\u001b[0;32m    913\u001b[0m                    bind_address, bind_port, clean_start, properties)\n\u001b[1;32m--> 914\u001b[0m \u001b[39mreturn\u001b[39;00m \u001b[39mself\u001b[39;49m\u001b[39m.\u001b[39;49mreconnect()\n",
      "File \u001b[1;32m~\\AppData\\Roaming\\Python\\Python311\\site-packages\\paho\\mqtt\\client.py:1044\u001b[0m, in \u001b[0;36mClient.reconnect\u001b[1;34m(self)\u001b[0m\n\u001b[0;32m   1041\u001b[0m \u001b[39m# Put messages in progress in a valid state.\u001b[39;00m\n\u001b[0;32m   1042\u001b[0m \u001b[39mself\u001b[39m\u001b[39m.\u001b[39m_messages_reconnect_reset()\n\u001b[1;32m-> 1044\u001b[0m sock \u001b[39m=\u001b[39m \u001b[39mself\u001b[39;49m\u001b[39m.\u001b[39;49m_create_socket_connection()\n\u001b[0;32m   1046\u001b[0m \u001b[39mif\u001b[39;00m \u001b[39mself\u001b[39m\u001b[39m.\u001b[39m_ssl:\n\u001b[0;32m   1047\u001b[0m     \u001b[39m# SSL is only supported when SSLContext is available (implies Python >= 2.7.9 or >= 3.2)\u001b[39;00m\n\u001b[0;32m   1049\u001b[0m     verify_host \u001b[39m=\u001b[39m \u001b[39mnot\u001b[39;00m \u001b[39mself\u001b[39m\u001b[39m.\u001b[39m_tls_insecure\n",
      "File \u001b[1;32m~\\AppData\\Roaming\\Python\\Python311\\site-packages\\paho\\mqtt\\client.py:3685\u001b[0m, in \u001b[0;36mClient._create_socket_connection\u001b[1;34m(self)\u001b[0m\n\u001b[0;32m   3683\u001b[0m     \u001b[39mreturn\u001b[39;00m socks\u001b[39m.\u001b[39mcreate_connection(addr, timeout\u001b[39m=\u001b[39m\u001b[39mself\u001b[39m\u001b[39m.\u001b[39m_connect_timeout, source_address\u001b[39m=\u001b[39msource, \u001b[39m*\u001b[39m\u001b[39m*\u001b[39mproxy)\n\u001b[0;32m   3684\u001b[0m \u001b[39melse\u001b[39;00m:\n\u001b[1;32m-> 3685\u001b[0m     \u001b[39mreturn\u001b[39;00m socket\u001b[39m.\u001b[39;49mcreate_connection(addr, timeout\u001b[39m=\u001b[39;49m\u001b[39mself\u001b[39;49m\u001b[39m.\u001b[39;49m_connect_timeout, source_address\u001b[39m=\u001b[39;49msource)\n",
      "File \u001b[1;32mc:\\Program Files\\Python311\\Lib\\socket.py:851\u001b[0m, in \u001b[0;36mcreate_connection\u001b[1;34m(address, timeout, source_address, all_errors)\u001b[0m\n\u001b[0;32m    849\u001b[0m \u001b[39mtry\u001b[39;00m:\n\u001b[0;32m    850\u001b[0m     \u001b[39mif\u001b[39;00m \u001b[39mnot\u001b[39;00m all_errors:\n\u001b[1;32m--> 851\u001b[0m         \u001b[39mraise\u001b[39;00m exceptions[\u001b[39m0\u001b[39m]\n\u001b[0;32m    852\u001b[0m     \u001b[39mraise\u001b[39;00m ExceptionGroup(\u001b[39m\"\u001b[39m\u001b[39mcreate_connection failed\u001b[39m\u001b[39m\"\u001b[39m, exceptions)\n\u001b[0;32m    853\u001b[0m \u001b[39mfinally\u001b[39;00m:\n\u001b[0;32m    854\u001b[0m     \u001b[39m# Break explicitly a reference cycle\u001b[39;00m\n",
      "File \u001b[1;32mc:\\Program Files\\Python311\\Lib\\socket.py:836\u001b[0m, in \u001b[0;36mcreate_connection\u001b[1;34m(address, timeout, source_address, all_errors)\u001b[0m\n\u001b[0;32m    834\u001b[0m \u001b[39mif\u001b[39;00m source_address:\n\u001b[0;32m    835\u001b[0m     sock\u001b[39m.\u001b[39mbind(source_address)\n\u001b[1;32m--> 836\u001b[0m sock\u001b[39m.\u001b[39;49mconnect(sa)\n\u001b[0;32m    837\u001b[0m \u001b[39m# Break explicitly a reference cycle\u001b[39;00m\n\u001b[0;32m    838\u001b[0m exceptions\u001b[39m.\u001b[39mclear()\n",
      "\u001b[1;31mConnectionRefusedError\u001b[0m: [WinError 10061] Nenhuma conexão pôde ser feita porque a máquina de destino as recusou ativamente"
     ]
    }
   ],
   "source": [
    "#Necessario ter instalado a biblioteca\n",
    "        #pip install paho-mqtt\n",
    "\n",
    "# Está no oarquivo dadosEntradaRandon.py\n",
    "#Import das bibliotecas\n",
    "import random\n",
    "import time\n",
    "import json\n",
    "import paho.mqtt.client as mqtt\n",
    "\n",
    "# Configurações do broker MQTT\n",
    "broker_address = 'localhost'\n",
    "broker_port = 1883 #Porta do Docker\n",
    "\n",
    "# Configurações do tópico e número de mensagens\n",
    "topic = 'dados_entrada'\n",
    "num_messages = 100\n",
    "\n",
    "# Função de callback para quando a conexão com o broker for estabelecida\n",
    "def on_connect(client, userdata, flags, rc):\n",
    "    print(\"Conectado ao broker MQTT\")\n",
    "    client.subscribe(topic)\n",
    "\n",
    "# Função de callback para quando uma mensagem é publicada com sucesso\n",
    "def on_publish(client, userdata, mid):\n",
    "    print(f\"Mensagem publicada com sucesso: {mid}\")\n",
    "\n",
    "# Criação do cliente MQTT\n",
    "client = mqtt.Client()\n",
    "\n",
    "# Configuração dos callbacks\n",
    "client.on_connect = on_connect\n",
    "client.on_publish = on_publish\n",
    "\n",
    "# Conexão com o broker MQTT\n",
    "client.connect(broker_address, broker_port)\n",
    "\n",
    "# Loop principal\n",
    "client.loop_start()\n",
    "\n",
    "# Envio das mensagens\n",
    "for i in range(num_messages):\n",
    "    data_entry = {\n",
    "        'valor': random.uniform(0, 10),\n",
    "        'data_hora': time.strftime('%Y-%m-%dT%H:%M:%S')\n",
    "    }\n",
    "    payload = json.dumps(data_entry)\n",
    "    client.publish(topic, payload)\n",
    "    time.sleep(1)\n",
    "\n",
    "# Aguarda as mensagens serem enviadas antes de encerrar\n",
    "time.sleep(2)\n",
    "\n",
    "# Encerramento do cliente MQTT\n",
    "client.loop_stop()\n",
    "client.disconnect()\n"
   ]
  }
 ],
 "metadata": {
  "kernelspec": {
   "display_name": "Python 3",
   "language": "python",
   "name": "python3"
  },
  "language_info": {
   "codemirror_mode": {
    "name": "ipython",
    "version": 3
   },
   "file_extension": ".py",
   "mimetype": "text/x-python",
   "name": "python",
   "nbconvert_exporter": "python",
   "pygments_lexer": "ipython3",
   "version": "3.11.2"
  },
  "orig_nbformat": 4
 },
 "nbformat": 4,
 "nbformat_minor": 2
}
